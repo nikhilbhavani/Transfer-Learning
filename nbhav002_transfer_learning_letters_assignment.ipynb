{
  "cells": [
    {
      "cell_type": "markdown",
      "id": "2f7ec25c",
      "metadata": {
        "id": "2f7ec25c"
      },
      "source": [
        "### MNIST using MLP and Transfer Learning\n",
        "\n",
        "The task of this assignment is to train a MLP model on MNIST classification. The second task is to use transfer learning (or re-training) to train another model for a letter classification task.\n",
        "\n",
        "**important**: before turning in your final notebook for grading, make sure to make a \"clean\" run. Choose \"Restart & Run All\" from the \"Kernel\" pulldown menu. The indices of runs must be sequential and start with 1\n",
        "\n",
        "**important**: rename the notebook with your UID as the prefix, such as jdoe001_xxxxxxx.ipynb, and put your name below\n",
        "\n",
        "**Name**: Nikhil Kumar Bhavani"
      ]
    },
    {
      "cell_type": "code",
      "execution_count": 1,
      "id": "575b6c53",
      "metadata": {
        "id": "575b6c53"
      },
      "outputs": [],
      "source": [
        "import torch\n",
        "import torchvision\n",
        "import torch.nn as nn\n",
        "import torch.nn.functional as F\n",
        "import matplotlib.pyplot as plt\n",
        "import torchvision.transforms as transform\n",
        "import torch.utils as utils\n",
        "import random"
      ]
    },
    {
      "cell_type": "code",
      "source": [
        "# Define the transformations: ToTensor and Normalize\n",
        "transform = torchvision.transforms.Compose([\n",
        "    torchvision.transforms.ToTensor(),\n",
        "    torchvision.transforms.Normalize((0.5,), (0.5,))  # Normalize images to [-1, 1]\n",
        "])"
      ],
      "metadata": {
        "id": "mOVHZFXrqGxA"
      },
      "id": "mOVHZFXrqGxA",
      "execution_count": 2,
      "outputs": []
    },
    {
      "cell_type": "code",
      "execution_count": 3,
      "id": "d122b04b",
      "metadata": {
        "colab": {
          "base_uri": "https://localhost:8080/"
        },
        "id": "d122b04b",
        "outputId": "76d7daf0-b684-4398-8993-b6c58c132613"
      },
      "outputs": [
        {
          "output_type": "stream",
          "name": "stdout",
          "text": [
            "Dataset MNIST\n",
            "    Number of datapoints: 60000\n",
            "    Root location: ./data\n",
            "    Split: Train\n",
            "    StandardTransform\n",
            "Transform: Compose(\n",
            "               ToTensor()\n",
            "               Normalize(mean=(0.5,), std=(0.5,))\n",
            "           )\n",
            "Dataset MNIST\n",
            "    Number of datapoints: 10000\n",
            "    Root location: ./data\n",
            "    Split: Test\n",
            "    StandardTransform\n",
            "Transform: Compose(\n",
            "               ToTensor()\n",
            "               Normalize(mean=(0.5,), std=(0.5,))\n",
            "           )\n",
            "Number of classes = 10\n"
          ]
        }
      ],
      "source": [
        "## load MNIST\n",
        "train_data = torchvision.datasets.MNIST('./data',download=True, transform=transform)\n",
        "test_data = torchvision.datasets.MNIST('./data', train=False, transform=transform)\n",
        "num_classes = len(train_data.classes)\n",
        "print(train_data)\n",
        "print(test_data)\n",
        "print(\"Number of classes = {0:d}\".format(num_classes))"
      ]
    },
    {
      "cell_type": "code",
      "execution_count": 4,
      "id": "47628a57",
      "metadata": {
        "colab": {
          "base_uri": "https://localhost:8080/",
          "height": 661
        },
        "id": "47628a57",
        "outputId": "62b9efeb-6d3c-40cf-fc42-7334bf6c72ca"
      },
      "outputs": [
        {
          "output_type": "display_data",
          "data": {
            "text/plain": [
              "<Figure size 800x800 with 2 Axes>"
            ],
            "image/png": "[encoded data removed]"
          },
          "metadata": {}
        },
        {
          "output_type": "display_data",
          "data": {
            "text/plain": [
              "<Figure size 800x800 with 2 Axes>"
            ],
            "image/png": "[encoded data removed]"
          },
          "metadata": {}
        }
      ],
      "source": [
        "## visualization\n",
        "##\n",
        "## TO BE IMPLEMENTED\n",
        "def visualize_selected_images(dataset, selected_labels):\n",
        "    plt.figure(figsize=(8, 8))\n",
        "    for i, label in enumerate(selected_labels, 1):\n",
        "        # Filter images by label\n",
        "        filtered_indices = [idx for idx, (_, target) in enumerate(dataset) if target == label]\n",
        "        # Randomly select an image\n",
        "        selected_index = random.choice(filtered_indices)\n",
        "        image, label = dataset[selected_index]\n",
        "        plt.subplot(2, 2, i)\n",
        "        plt.imshow(image.squeeze(), cmap='gray')\n",
        "        plt.title(f\"Label: {label}\")\n",
        "        plt.axis('off')\n",
        "\n",
        "# Selected labels to visualize\n",
        "selected_labels = [4, 5]\n",
        "\n",
        "# Visualize selected labels from training set\n",
        "visualize_selected_images(train_data, selected_labels)\n",
        "\n",
        "# Visualize selected labels from test set\n",
        "visualize_selected_images(test_data, selected_labels)\n"
      ]
    },
    {
      "cell_type": "code",
      "execution_count": 5,
      "id": "ac3587f2",
      "metadata": {
        "id": "ac3587f2"
      },
      "outputs": [],
      "source": [
        "## hyperparameters\n",
        "##\n",
        "## After hyperparameter turning, replace with your best values here\n",
        "\n",
        "input_size = 28*28  #Size of image\n",
        "num_classes = num_classes  #the image number are in range 0-10\n",
        "num_epochs = 12 #one cycle through the full train data\n",
        "batch_size = 100 #sample size consider before updating the model’s weights\n",
        "learning_rate = 0.1  #step size to update parameter\n",
        "num_hidden = 120 ## width of hidden layers"
      ]
    },
    {
      "cell_type": "code",
      "execution_count": 6,
      "id": "faa99ae9",
      "metadata": {
        "id": "faa99ae9"
      },
      "outputs": [],
      "source": [
        "## create dataloaders\n",
        "\n",
        "## TO BE IMPLEMENTED\n",
        "## copy from the previous quiz\n",
        "train_loader = utils.data.DataLoader(dataset=train_data, batch_size=batch_size, shuffle=True)\n",
        "test_loader = utils.data.DataLoader(dataset=test_data, batch_size=batch_size, shuffle=False)"
      ]
    },
    {
      "cell_type": "code",
      "execution_count": 7,
      "id": "ec06ccb1",
      "metadata": {
        "id": "ec06ccb1"
      },
      "outputs": [],
      "source": [
        "## define the MLP model\n",
        "\n",
        "## Dropout layers MUST be used\n",
        "##\n",
        "\n",
        "class MLP(nn.Module):\n",
        "  def __init__(self, input_size, num_hidden, num_classes):\n",
        "        super(MLP, self).__init__()\n",
        "        # First fully connected layer\n",
        "        self.fc1 = nn.Linear(input_size, num_hidden)\n",
        "        # Dropout layer with dropout probability of 0.5\n",
        "        self.dropout1 = nn.Dropout(0.5)\n",
        "        # Second fully connected layer\n",
        "        self.fc2 = nn.Linear(num_hidden, num_hidden)\n",
        "        # Second dropout layer\n",
        "        self.dropout2 = nn.Dropout(0.5)\n",
        "        # Output layer\n",
        "        self.fc3 = nn.Linear(num_hidden, num_classes)\n",
        "\n",
        "  def forward(self, x):\n",
        "        # Flatten the input x keeping the batch dimension\n",
        "        x = x.view(-1, input_size)\n",
        "        # Apply first fully connected layer with ReLU activation function\n",
        "        x = F.relu(self.fc1(x))\n",
        "        # Apply first dropout layer\n",
        "        x = self.dropout1(x)\n",
        "        # Apply second fully connected layer with ReLU activation function\n",
        "        x = F.relu(self.fc2(x))\n",
        "        # Apply second dropout layer\n",
        "        x = self.dropout2(x)\n",
        "        # Apply output layer\n",
        "        x = self.fc3(x)\n",
        "        return x\n"
      ]
    },
    {
      "cell_type": "code",
      "execution_count": 8,
      "id": "b3cbe4b3",
      "metadata": {
        "id": "b3cbe4b3"
      },
      "outputs": [],
      "source": [
        "## set up loss function and optimizer\n",
        "\n",
        "model =  MLP(input_size=input_size, num_hidden=num_hidden, num_classes=num_classes)\n",
        "loss = nn.CrossEntropyLoss()\n",
        "optimizer =  torch.optim.SGD(model.parameters(),lr=learning_rate)"
      ]
    },
    {
      "cell_type": "code",
      "execution_count": 9,
      "id": "ba09f028",
      "metadata": {
        "colab": {
          "base_uri": "https://localhost:8080/"
        },
        "id": "ba09f028",
        "outputId": "d94e18dc-7e85-4856-dbc9-6b4a338417ce"
      },
      "outputs": [
        {
          "output_type": "stream",
          "name": "stdout",
          "text": [
            "Iteration: 200, training loss = 0.912\n",
            "Iteration: 400, training loss = 0.389\n",
            "Iteration: 600, training loss = 0.501\n",
            "==> Epoch: 0, test accuracy = 90.400\n",
            "Iteration: 200, training loss = 0.387\n",
            "Iteration: 400, training loss = 0.347\n",
            "Iteration: 600, training loss = 0.248\n",
            "==> Epoch: 1, test accuracy = 93.130\n",
            "Iteration: 200, training loss = 0.302\n",
            "Iteration: 400, training loss = 0.320\n",
            "Iteration: 600, training loss = 0.336\n",
            "==> Epoch: 2, test accuracy = 94.300\n",
            "Iteration: 200, training loss = 0.387\n",
            "Iteration: 400, training loss = 0.569\n",
            "Iteration: 600, training loss = 0.343\n",
            "==> Epoch: 3, test accuracy = 95.050\n",
            "Iteration: 200, training loss = 0.285\n",
            "Iteration: 400, training loss = 0.293\n",
            "Iteration: 600, training loss = 0.388\n",
            "==> Epoch: 4, test accuracy = 95.000\n",
            "Iteration: 200, training loss = 0.185\n",
            "Iteration: 400, training loss = 0.422\n",
            "Iteration: 600, training loss = 0.312\n",
            "==> Epoch: 5, test accuracy = 95.560\n",
            "Iteration: 200, training loss = 0.355\n",
            "Iteration: 400, training loss = 0.183\n",
            "Iteration: 600, training loss = 0.150\n",
            "==> Epoch: 6, test accuracy = 95.590\n",
            "Iteration: 200, training loss = 0.385\n",
            "Iteration: 400, training loss = 0.279\n",
            "Iteration: 600, training loss = 0.311\n",
            "==> Epoch: 7, test accuracy = 95.890\n",
            "Iteration: 200, training loss = 0.198\n",
            "Iteration: 400, training loss = 0.124\n",
            "Iteration: 600, training loss = 0.178\n",
            "==> Epoch: 8, test accuracy = 95.860\n",
            "Iteration: 200, training loss = 0.251\n",
            "Iteration: 400, training loss = 0.112\n",
            "Iteration: 600, training loss = 0.331\n",
            "==> Epoch: 9, test accuracy = 96.180\n",
            "Iteration: 200, training loss = 0.434\n",
            "Iteration: 400, training loss = 0.318\n",
            "Iteration: 600, training loss = 0.187\n",
            "==> Epoch: 10, test accuracy = 96.110\n",
            "Iteration: 200, training loss = 0.256\n",
            "Iteration: 400, training loss = 0.236\n",
            "Iteration: 600, training loss = 0.268\n",
            "==> Epoch: 11, test accuracy = 96.280\n",
            "Final Accuracy = 96.28%\n"
          ]
        }
      ],
      "source": [
        "## training of MNIST model\n",
        "\n",
        "## TO BE IMPLEMENTED\n",
        "\n",
        "## IMPORTANT: the testing accuracy must be > 95%!\n",
        "for epoch in range(num_epochs):\n",
        "    model.train()\n",
        "    for i, (images, labels) in enumerate(train_loader):\n",
        "        # Assuming images and labels are already prepared for processing\n",
        "        # Forward pass\n",
        "        outputs = model(images)\n",
        "        loss_m = loss(outputs, labels)\n",
        "\n",
        "        # Backward and optimize\n",
        "        optimizer.zero_grad()\n",
        "        loss_m.backward()\n",
        "        optimizer.step()\n",
        "\n",
        "        if (i+1) % 200 == 0:  # Log every 200th iteration\n",
        "            print('Iteration: {}, training loss = {:.3f}'.format(i+1, loss_m.item()))\n",
        "\n",
        "    # Testing the model after each epoch\n",
        "    model.eval()\n",
        "    with torch.no_grad():\n",
        "        correct = 0\n",
        "        total = 0\n",
        "        for images, labels in test_loader:\n",
        "            outputs = model(images)\n",
        "            _, predicted = torch.max(outputs.data, 1)\n",
        "            total += labels.size(0)\n",
        "            correct += (predicted == labels).sum().item()\n",
        "\n",
        "        accuracy = 100 * correct / total\n",
        "        print('==> Epoch: {}, test accuracy = {:.3f}'.format(epoch, accuracy))\n",
        "\n",
        "\n",
        "print('Final Accuracy = {0:.2f}%'.format(accuracy))"
      ]
    },
    {
      "cell_type": "code",
      "execution_count": 10,
      "id": "43862e0b",
      "metadata": {
        "colab": {
          "base_uri": "https://localhost:8080/"
        },
        "id": "43862e0b",
        "outputId": "888b5e85-d750-45d3-c6d1-8bf188898aa1"
      },
      "outputs": [
        {
          "output_type": "stream",
          "name": "stdout",
          "text": [
            "Model's state_dict:\n",
            "fc1.weight \t torch.Size([120, 784])\n",
            "fc1.bias \t torch.Size([120])\n",
            "fc2.weight \t torch.Size([120, 120])\n",
            "fc2.bias \t torch.Size([120])\n",
            "fc3.weight \t torch.Size([10, 120])\n",
            "fc3.bias \t torch.Size([10])\n"
          ]
        }
      ],
      "source": [
        "# Print model's state_dict\n",
        "print(\"Model's state_dict:\")\n",
        "for param_tensor in model.state_dict():\n",
        "    print(param_tensor, \"\\t\", model.state_dict()[param_tensor].size())"
      ]
    },
    {
      "cell_type": "code",
      "execution_count": 11,
      "id": "f5da9b78",
      "metadata": {
        "id": "f5da9b78"
      },
      "outputs": [],
      "source": [
        "## save model for later use\n",
        "torch.save(model.state_dict(), './mlp_mnist.pt')"
      ]
    },
    {
      "cell_type": "code",
      "execution_count": 12,
      "id": "8891f298",
      "metadata": {
        "colab": {
          "base_uri": "https://localhost:8080/"
        },
        "id": "8891f298",
        "outputId": "48c0ea08-de6a-46e8-de35-9edf5a31f07e"
      },
      "outputs": [
        {
          "output_type": "stream",
          "name": "stdout",
          "text": [
            "-rw-r--r-- 1 root root 442268 Feb 29 07:41 mlp_mnist.pt\n"
          ]
        }
      ],
      "source": [
        "!ls -al *.pt"
      ]
    },
    {
      "cell_type": "code",
      "execution_count": 13,
      "id": "f08b6cab",
      "metadata": {
        "id": "f08b6cab"
      },
      "outputs": [],
      "source": [
        "## Now we load the letters from EMNIST\n",
        "## use split=\"letters\"\n",
        "\n",
        "## TO BE IMPLEMENTED\n",
        "train_dataset = torchvision.datasets.EMNIST(root='./data', split='letters', train=True, download=True, transform=transform)\n",
        "test_dataset = torchvision.datasets.EMNIST(root='./data', split='letters', train=False, download=True, transform=transform)\n",
        "num_classes1 = len(train_dataset.classes)"
      ]
    },
    {
      "cell_type": "code",
      "execution_count": 14,
      "id": "f76411a6",
      "metadata": {
        "colab": {
          "base_uri": "https://localhost:8080/",
          "height": 661
        },
        "id": "f76411a6",
        "outputId": "92b8d7ee-9494-4f9f-f884-2261b54d834c"
      },
      "outputs": [
        {
          "output_type": "display_data",
          "data": {
            "text/plain": [
              "<Figure size 800x800 with 2 Axes>"
            ],
            "image/png": "[encoded data removed]"
          },
          "metadata": {}
        },
        {
          "output_type": "display_data",
          "data": {
            "text/plain": [
              "<Figure size 800x800 with 2 Axes>"
            ],
            "image/png": "[encoded data removed]"
          },
          "metadata": {}
        }
      ],
      "source": [
        "## visualize new dataset\n",
        "\n",
        "def visualize_selected_images(dataset, selected_labels):\n",
        "    plt.figure(figsize=(8, 8))\n",
        "    for i, label in enumerate(selected_labels, 1):\n",
        "        # Filter images by label\n",
        "        filtered_indices = [idx for idx, (_, target) in enumerate(dataset) if target == label]\n",
        "        # Randomly select an image\n",
        "        selected_index = random.choice(filtered_indices)\n",
        "        image, label = dataset[selected_index]\n",
        "        plt.subplot(2, 2, i)\n",
        "        plt.imshow(image.squeeze(), cmap='gray')\n",
        "        plt.title(f\"Label: {label}\")\n",
        "        plt.axis('off')\n",
        "\n",
        "# Selected labels to visualize\n",
        "selected_labels = [4, 5]\n",
        "\n",
        "# Visualize selected labels from training set\n",
        "visualize_selected_images(train_dataset, selected_labels)\n",
        "\n",
        "# Visualize selected labels from test set\n",
        "visualize_selected_images(test_dataset, selected_labels)\n"
      ]
    },
    {
      "cell_type": "code",
      "execution_count": 15,
      "id": "75d11351",
      "metadata": {
        "colab": {
          "base_uri": "https://localhost:8080/"
        },
        "id": "75d11351",
        "outputId": "a50dc743-d354-4c01-c988-d90619c262dc"
      },
      "outputs": [
        {
          "output_type": "execute_result",
          "data": {
            "text/plain": [
              "<All keys matched successfully>"
            ]
          },
          "metadata": {},
          "execution_count": 15
        }
      ],
      "source": [
        "## we define a new model and load from saved weights\n",
        "model_emnist = MLP(input_size=input_size, num_hidden=num_hidden, num_classes=num_classes)\n",
        "model_emnist.load_state_dict(torch.load('./mlp_mnist.pt'))"
      ]
    },
    {
      "cell_type": "code",
      "execution_count": 16,
      "id": "9c3a707c",
      "metadata": {
        "colab": {
          "base_uri": "https://localhost:8080/"
        },
        "id": "9c3a707c",
        "outputId": "0c0bf9e7-6e8e-4739-bb88-ec6ffb919a5f"
      },
      "outputs": [
        {
          "output_type": "stream",
          "name": "stdout",
          "text": [
            "Model's state_dict:\n",
            "fc1.weight \t torch.Size([120, 784])\n",
            "fc1.bias \t torch.Size([120])\n",
            "fc2.weight \t torch.Size([120, 120])\n",
            "fc2.bias \t torch.Size([120])\n",
            "fc3.weight \t torch.Size([10, 120])\n",
            "fc3.bias \t torch.Size([10])\n"
          ]
        }
      ],
      "source": [
        "# Print model's state_dict\n",
        "print(\"Model's state_dict:\")\n",
        "for param_tensor in model_emnist.state_dict():\n",
        "    print(param_tensor, \"\\t\", model_emnist.state_dict()[param_tensor].size())"
      ]
    },
    {
      "cell_type": "code",
      "execution_count": 17,
      "id": "3e40a073",
      "metadata": {
        "colab": {
          "base_uri": "https://localhost:8080/"
        },
        "id": "3e40a073",
        "outputId": "edba5d6a-267b-44d7-b338-2622727ca7bf"
      },
      "outputs": [
        {
          "output_type": "stream",
          "name": "stdout",
          "text": [
            "Model's state_dict:\n",
            "fc1.weight \t torch.Size([120, 784])\n",
            "fc1.bias \t torch.Size([120])\n",
            "fc2.weight \t torch.Size([120, 120])\n",
            "fc2.bias \t torch.Size([120])\n",
            "fc3.weight \t torch.Size([27, 120])\n",
            "fc3.bias \t torch.Size([27])\n"
          ]
        }
      ],
      "source": [
        "## modify the new MLP model for the new task\n",
        "## and print\n",
        "## TO BE IMPLEMENTED\n",
        "\n",
        "input_size = 28*28  #Size of image\n",
        "num_classes = num_classes1\n",
        "num_epochs = 12 #one cycle through the full train data\n",
        "batch_size = 100 #sample size consider before updating the model’s weights\n",
        "learning_rate = 0.125 #step size to update parameter\n",
        "num_hidden = 120 ## width of hidden layers\n",
        "\n",
        "# Instantiate the modified model\n",
        "model_emnist = MLP(input_size, num_hidden, num_classes)\n",
        "loss = nn.CrossEntropyLoss()\n",
        "optimizer =  torch.optim.SGD(model_emnist.parameters(),lr=learning_rate)\n",
        "\n",
        "print(\"Model's state_dict:\")\n",
        "for param_tensor in model_emnist.state_dict():\n",
        "    print(param_tensor, \"\\t\", model_emnist.state_dict()[param_tensor].size())"
      ]
    },
    {
      "cell_type": "code",
      "execution_count": 18,
      "id": "fcab9e8d",
      "metadata": {
        "colab": {
          "base_uri": "https://localhost:8080/"
        },
        "id": "fcab9e8d",
        "outputId": "a0137fae-9c84-4896-d5d2-8942f251f08f"
      },
      "outputs": [
        {
          "output_type": "stream",
          "name": "stdout",
          "text": [
            "<torch.utils.data.dataloader.DataLoader object at 0x78a5ce68e3b0>\n"
          ]
        }
      ],
      "source": [
        "## build the new data loader\n",
        "\n",
        "## TO BE IMPLEMENTED\n",
        "train_loader1 = utils.data.DataLoader(dataset=train_dataset, batch_size=64, shuffle=True)\n",
        "test_loader1 = utils.data.DataLoader(dataset=test_dataset, batch_size=64, shuffle=False)\n",
        "print(test_loader1)"
      ]
    },
    {
      "cell_type": "code",
      "execution_count": 19,
      "id": "6a496655",
      "metadata": {
        "colab": {
          "base_uri": "https://localhost:8080/"
        },
        "id": "6a496655",
        "outputId": "bba666e2-5c68-4f41-a42d-00c013b5ac49"
      },
      "outputs": [
        {
          "output_type": "stream",
          "name": "stdout",
          "text": [
            "Final Accuracy = 2.48%\n"
          ]
        }
      ],
      "source": [
        "## do an inference on the pre-trained model\n",
        "model_emnist.eval()  # Set the model to evaluation mode\n",
        "\n",
        "\n",
        "with torch.no_grad():\n",
        "    correct = 0\n",
        "    total = 0\n",
        "\n",
        "    for images, labels in test_loader1:  # Assuming test_loader is your DataLoader for the test set\n",
        "        # If your model expects a different input size (e.g., flattened vector), adjust accordingly\n",
        "        outputs = model_emnist(images)\n",
        "        _, predicted = torch.max(outputs.data, 1)\n",
        "        total += labels.size(0)\n",
        "        correct += (predicted == labels).sum().item()\n",
        "\n",
        "accuracy_score = 100 * correct / total\n",
        "print('Final Accuracy = {:.2f}%'.format(accuracy_score))"
      ]
    },
    {
      "cell_type": "code",
      "execution_count": 20,
      "id": "4ea9b206",
      "metadata": {
        "colab": {
          "base_uri": "https://localhost:8080/"
        },
        "id": "4ea9b206",
        "outputId": "5deae2bb-7c1c-4748-d465-ee9d1c864234"
      },
      "outputs": [
        {
          "output_type": "stream",
          "name": "stdout",
          "text": [
            "Iteration: 200, training loss = 2.219\n",
            "Iteration: 400, training loss = 1.661\n",
            "Iteration: 600, training loss = 1.680\n",
            "Iteration: 800, training loss = 1.513\n",
            "Iteration: 1000, training loss = 1.418\n",
            "Iteration: 1200, training loss = 1.382\n",
            "Iteration: 1400, training loss = 1.792\n",
            "Iteration: 1600, training loss = 1.145\n",
            "Iteration: 1800, training loss = 1.114\n",
            "==> Epoch: 0, test accuracy = 70.938\n",
            "Iteration: 200, training loss = 1.033\n",
            "Iteration: 400, training loss = 1.327\n",
            "Iteration: 600, training loss = 1.143\n",
            "Iteration: 800, training loss = 1.400\n",
            "Iteration: 1000, training loss = 1.218\n",
            "Iteration: 1200, training loss = 1.218\n",
            "Iteration: 1400, training loss = 1.545\n",
            "Iteration: 1600, training loss = 1.079\n",
            "Iteration: 1800, training loss = 0.986\n",
            "==> Epoch: 1, test accuracy = 73.548\n",
            "Iteration: 200, training loss = 1.375\n",
            "Iteration: 400, training loss = 1.362\n",
            "Iteration: 600, training loss = 1.270\n",
            "Iteration: 800, training loss = 1.179\n",
            "Iteration: 1000, training loss = 1.181\n",
            "Iteration: 1200, training loss = 1.510\n",
            "Iteration: 1400, training loss = 0.908\n",
            "Iteration: 1600, training loss = 1.021\n",
            "Iteration: 1800, training loss = 1.369\n",
            "==> Epoch: 2, test accuracy = 75.192\n",
            "Iteration: 200, training loss = 1.246\n",
            "Iteration: 400, training loss = 1.268\n",
            "Iteration: 600, training loss = 0.805\n",
            "Iteration: 800, training loss = 0.954\n",
            "Iteration: 1000, training loss = 1.247\n",
            "Iteration: 1200, training loss = 1.169\n",
            "Iteration: 1400, training loss = 1.211\n",
            "Iteration: 1600, training loss = 1.193\n",
            "Iteration: 1800, training loss = 0.824\n",
            "==> Epoch: 3, test accuracy = 76.024\n",
            "Iteration: 200, training loss = 1.012\n",
            "Iteration: 400, training loss = 0.951\n",
            "Iteration: 600, training loss = 1.281\n",
            "Iteration: 800, training loss = 1.288\n",
            "Iteration: 1000, training loss = 1.279\n",
            "Iteration: 1200, training loss = 1.077\n",
            "Iteration: 1400, training loss = 1.121\n",
            "Iteration: 1600, training loss = 0.980\n",
            "Iteration: 1800, training loss = 1.146\n",
            "==> Epoch: 4, test accuracy = 75.524\n",
            "Iteration: 200, training loss = 1.045\n",
            "Iteration: 400, training loss = 0.735\n",
            "Iteration: 600, training loss = 0.677\n",
            "Iteration: 800, training loss = 1.200\n",
            "Iteration: 1000, training loss = 0.869\n",
            "Iteration: 1200, training loss = 1.305\n",
            "Iteration: 1400, training loss = 1.042\n",
            "Iteration: 1600, training loss = 1.017\n",
            "Iteration: 1800, training loss = 1.295\n",
            "==> Epoch: 5, test accuracy = 76.639\n",
            "Iteration: 200, training loss = 0.956\n",
            "Iteration: 400, training loss = 1.177\n",
            "Iteration: 600, training loss = 1.217\n",
            "Iteration: 800, training loss = 0.961\n",
            "Iteration: 1000, training loss = 1.230\n",
            "Iteration: 1200, training loss = 1.373\n",
            "Iteration: 1400, training loss = 1.231\n",
            "Iteration: 1600, training loss = 1.520\n",
            "Iteration: 1800, training loss = 0.790\n",
            "==> Epoch: 6, test accuracy = 77.721\n",
            "Iteration: 200, training loss = 0.990\n",
            "Iteration: 400, training loss = 0.767\n",
            "Iteration: 600, training loss = 1.150\n",
            "Iteration: 800, training loss = 1.036\n",
            "Iteration: 1000, training loss = 0.961\n",
            "Iteration: 1200, training loss = 1.364\n",
            "Iteration: 1400, training loss = 1.111\n",
            "Iteration: 1600, training loss = 1.194\n",
            "Iteration: 1800, training loss = 1.110\n",
            "==> Epoch: 7, test accuracy = 77.856\n",
            "Iteration: 200, training loss = 1.018\n",
            "Iteration: 400, training loss = 1.137\n",
            "Iteration: 600, training loss = 0.807\n",
            "Iteration: 800, training loss = 1.271\n",
            "Iteration: 1000, training loss = 0.823\n",
            "Iteration: 1200, training loss = 1.069\n",
            "Iteration: 1400, training loss = 0.913\n",
            "Iteration: 1600, training loss = 0.852\n",
            "Iteration: 1800, training loss = 0.888\n",
            "==> Epoch: 8, test accuracy = 78.067\n",
            "Iteration: 200, training loss = 1.132\n",
            "Iteration: 400, training loss = 0.814\n",
            "Iteration: 600, training loss = 0.926\n",
            "Iteration: 800, training loss = 0.905\n",
            "Iteration: 1000, training loss = 1.275\n",
            "Iteration: 1200, training loss = 1.063\n",
            "Iteration: 1400, training loss = 1.308\n",
            "Iteration: 1600, training loss = 1.089\n",
            "Iteration: 1800, training loss = 0.915\n",
            "==> Epoch: 9, test accuracy = 77.784\n",
            "Iteration: 200, training loss = 0.672\n",
            "Iteration: 400, training loss = 1.071\n",
            "Iteration: 600, training loss = 0.929\n",
            "Iteration: 800, training loss = 1.003\n",
            "Iteration: 1000, training loss = 1.035\n",
            "Iteration: 1200, training loss = 1.336\n",
            "Iteration: 1400, training loss = 1.348\n",
            "Iteration: 1600, training loss = 0.912\n",
            "Iteration: 1800, training loss = 0.684\n",
            "==> Epoch: 10, test accuracy = 78.250\n",
            "Iteration: 200, training loss = 1.133\n",
            "Iteration: 400, training loss = 1.323\n",
            "Iteration: 600, training loss = 1.185\n",
            "Iteration: 800, training loss = 0.782\n",
            "Iteration: 1000, training loss = 1.128\n",
            "Iteration: 1200, training loss = 1.151\n",
            "Iteration: 1400, training loss = 0.839\n",
            "Iteration: 1600, training loss = 0.675\n",
            "Iteration: 1800, training loss = 1.069\n",
            "==> Epoch: 11, test accuracy = 78.769\n",
            "Final Accuracy = 78.77%\n"
          ]
        }
      ],
      "source": [
        "## now we retrain the model with the new data\n",
        "\n",
        "## TO BE IMPLEMENTED\n",
        "\n",
        "## The final accuracy must be > 90%!\n",
        "for epoch in range(num_epochs):\n",
        "    model_emnist.train()\n",
        "    for i, (images, labels) in enumerate(train_loader1):\n",
        "        # Assuming images and labels are already prepared for processing\n",
        "        # Forward pass\n",
        "        outputs = model_emnist(images)\n",
        "        loss_e = loss(outputs, labels)\n",
        "\n",
        "        # Backward and optimize\n",
        "        optimizer.zero_grad()\n",
        "        loss_e.backward()\n",
        "        optimizer.step()\n",
        "\n",
        "        if (i+1) % 200 == 0:  # Log every 200th iteration\n",
        "            print('Iteration: {}, training loss = {:.3f}'.format(i+1, loss_e.item()))\n",
        "\n",
        "    # Testing the model after each epoch\n",
        "    model_emnist.eval()\n",
        "    with torch.no_grad():\n",
        "        correct = 0\n",
        "        total = 0\n",
        "        for images, labels in test_loader1:\n",
        "            outputs = model_emnist(images)\n",
        "            _, predicted = torch.max(outputs.data, 1)\n",
        "            total += labels.size(0)\n",
        "            correct += (predicted == labels).sum().item()\n",
        "\n",
        "        accuracy = 100 * correct / total\n",
        "        print('==> Epoch: {}, test accuracy = {:.3f}'.format(epoch, accuracy))\n",
        "\n",
        "\n",
        "print('Final Accuracy = {0:.2f}%'.format(accuracy))"
      ]
    },
    {
      "cell_type": "code",
      "execution_count": 21,
      "id": "75a9e654",
      "metadata": {
        "id": "75a9e654"
      },
      "outputs": [],
      "source": [
        "## Optional:\n",
        "## Total score = 15\n",
        "## You can get extra 2 points if you use GPUs\n",
        "## You can get an extra 3 points if you use the transfer learning technique on one of the following dataset\n"
      ]
    }
  ],
  "metadata": {
    "kernelspec": {
      "display_name": "Python 3",
      "name": "python3"
    },
    "language_info": {
      "codemirror_mode": {
        "name": "ipython",
        "version": 3
      },
      "file_extension": ".py",
      "mimetype": "text/x-python",
      "name": "python",
      "nbconvert_exporter": "python",
      "pygments_lexer": "ipython3",
      "version": "3.11.3"
    },
    "colab": {
      "provenance": []
    }
  },
  "nbformat": 4,
  "nbformat_minor": 5
}